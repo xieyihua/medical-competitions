{
 "cells": [
  {
   "cell_type": "code",
   "execution_count": 1,
   "id": "51ceea32-3ee5-4943-a67b-479990b62bad",
   "metadata": {},
   "outputs": [],
   "source": [
    "import os\n",
    "import math\n",
    "import random\n",
    "import pandas as pd\n",
    "import  numpy as np\n",
    "import scipy as stats\n",
    "from sklearn.model_selection import train_test_split\n",
    "from sklearn.feature_selection import VarianceThreshold"
   ]
  },
  {
   "cell_type": "code",
   "execution_count": 2,
   "id": "bdc6dc6e-caab-4203-a048-81d4ac873c8e",
   "metadata": {},
   "outputs": [],
   "source": [
    "from sklearn import model_selection,metrics\n",
    "from sklearn.model_selection import GridSearchCV"
   ]
  },
  {
   "cell_type": "code",
   "execution_count": 3,
   "id": "ac6cc412-8f73-4192-91a8-de7bed298639",
   "metadata": {},
   "outputs": [],
   "source": [
    "import xgboost as xgb\n",
    "from xgboost import XGBClassifier"
   ]
  },
  {
   "cell_type": "code",
   "execution_count": 4,
   "id": "d74e347a-8d0f-4cd1-a66f-b0952e9455eb",
   "metadata": {},
   "outputs": [],
   "source": [
    "path = '../data'"
   ]
  },
  {
   "cell_type": "code",
   "execution_count": 5,
   "id": "3e39f917-588d-4400-8e95-383eea292ef7",
   "metadata": {},
   "outputs": [],
   "source": [
    "filelist = os.listdir(path)"
   ]
  },
  {
   "cell_type": "code",
   "execution_count": 6,
   "id": "7e0da98c-9bcd-4e9d-b151-d6075da6f5e2",
   "metadata": {},
   "outputs": [],
   "source": [
    "filelist = [name for name in filelist if name.endswith('csv')]"
   ]
  },
  {
   "cell_type": "code",
   "execution_count": 7,
   "id": "f50f97c7-5212-4147-a8de-667d2fea8445",
   "metadata": {},
   "outputs": [],
   "source": [
    "def get_data(path,filename):\n",
    "    return pd.read_csv(path + '/'+filename)"
   ]
  },
  {
   "cell_type": "code",
   "execution_count": 8,
   "id": "077bdc1e-77c3-4a9c-b981-fb394a109e62",
   "metadata": {},
   "outputs": [],
   "source": [
    "G = globals()\n",
    "for filename in filelist:\n",
    "    df = get_data(path,filename)\n",
    "    G[filename.split('.')[0] + '_df'] = df"
   ]
  },
  {
   "cell_type": "markdown",
   "id": "7e65d0ee-dd1f-48ea-9ce3-b4e6df42cd49",
   "metadata": {},
   "source": [
    "### 查看每个文件数据大小\n"
   ]
  },
  {
   "cell_type": "code",
   "execution_count": 9,
   "id": "96fb79e3-b83e-42fd-b892-91bf64ae75a6",
   "metadata": {},
   "outputs": [
    {
     "name": "stdout",
     "output_type": "stream",
     "text": [
      "disease_feature1_df 的行数：220，列数：997\n",
      "disease_feature2_df 的行数：301，列数：3182\n",
      "disease_feature3_df 的行数：392，列数：1454\n"
     ]
    }
   ],
   "source": [
    "print('disease_feature1_df 的行数：{0}，列数：{1}'.format(disease_feature1_df.shape[0],disease_feature1_df.shape[1]))\n",
    "print('disease_feature2_df 的行数：{0}，列数：{1}'.format(disease_feature2_df.shape[0],disease_feature2_df.shape[1]))\n",
    "print('disease_feature3_df 的行数：{0}，列数：{1}'.format(disease_feature3_df.shape[0],disease_feature3_df.shape[1]))"
   ]
  },
  {
   "cell_type": "code",
   "execution_count": 10,
   "id": "783cdc62-ae29-40fe-96ab-919f30b1ac67",
   "metadata": {},
   "outputs": [
    {
     "name": "stdout",
     "output_type": "stream",
     "text": [
      "train_answer_df 的行数：141636，列数：3\n",
      "train_food_df 的行数：348，列数：213\n"
     ]
    }
   ],
   "source": [
    "print('train_answer_df 的行数：{0}，列数：{1}'.format(train_answer_df.shape[0],train_answer_df.shape[1]))\n",
    "print('train_food_df 的行数：{0}，列数：{1}'.format(train_food_df.shape[0],train_food_df.shape[1]))"
   ]
  },
  {
   "cell_type": "markdown",
   "id": "aff9155e-61f3-4d70-b5eb-a4962fc7581a",
   "metadata": {},
   "source": [
    "### 查看标签分布"
   ]
  },
  {
   "cell_type": "code",
   "execution_count": 11,
   "id": "ffb48361-4ada-429c-b38a-cb04bbe650a7",
   "metadata": {},
   "outputs": [
    {
     "data": {
      "text/plain": [
       "<AxesSubplot: >"
      ]
     },
     "execution_count": 11,
     "metadata": {},
     "output_type": "execute_result"
    },
    {
     "data": {
      "image/png": "[encoded data removed]",
      "text/plain": [
       "<Figure size 640x480 with 1 Axes>"
      ]
     },
     "metadata": {},
     "output_type": "display_data"
    }
   ],
   "source": [
    "train_answer_df['related'].value_counts().plot(kind = 'bar')"
   ]
  },
  {
   "cell_type": "code",
   "execution_count": 12,
   "id": "76ffe39c-1b4b-48b9-bea8-2f020ad6a0d5",
   "metadata": {},
   "outputs": [
    {
     "data": {
      "text/plain": [
       "0    127547\n",
       "1     14089\n",
       "Name: related, dtype: int64"
      ]
     },
     "execution_count": 12,
     "metadata": {},
     "output_type": "execute_result"
    }
   ],
   "source": [
    "train_answer_df['related'].value_counts()"
   ]
  },
  {
   "cell_type": "markdown",
   "id": "0000bfe3-8a2f-4f68-8c19-3edd34d6414b",
   "metadata": {},
   "source": [
    "### 根据缺失比例过滤"
   ]
  },
  {
   "cell_type": "code",
   "execution_count": 13,
   "id": "b2495251-30bd-45de-ae7a-dc766015cdb3",
   "metadata": {},
   "outputs": [],
   "source": [
    "def filter_data(df,cut_value = 0.33):\n",
    "    length,ans = df.shape[0],[]\n",
    "    for col in df.columns:\n",
    "        per_col = df[col].isnull().sum() / length\n",
    "        if per_col < cut_value:\n",
    "            ans.append(col)\n",
    "    return ans"
   ]
  },
  {
   "cell_type": "code",
   "execution_count": 14,
   "id": "98205f6f-e97c-4ab7-890c-1a95b4f9065d",
   "metadata": {},
   "outputs": [],
   "source": [
    "disease_feature1_df_col = filter_data(disease_feature1_df)\n",
    "disease_feature2_df_col = filter_data(disease_feature2_df)\n",
    "disease_feature3_df_col = filter_data(disease_feature3_df)"
   ]
  },
  {
   "cell_type": "code",
   "execution_count": 15,
   "id": "9b1619d2-fd56-438c-bc11-1b29f3a470f5",
   "metadata": {},
   "outputs": [],
   "source": [
    "train_food_df_col = filter_data(train_food_df)"
   ]
  },
  {
   "cell_type": "markdown",
   "id": "ce0bb642-8f88-42a4-8ad7-b16800d09bf7",
   "metadata": {},
   "source": [
    "### 复制一份数据"
   ]
  },
  {
   "cell_type": "code",
   "execution_count": 16,
   "id": "aa48da4a-b4d9-418c-8cfd-b592a9b1f8ec",
   "metadata": {},
   "outputs": [],
   "source": [
    "df1 = disease_feature1_df[disease_feature1_df_col].copy(deep = True)\n",
    "df2 = disease_feature2_df[disease_feature2_df_col].copy(deep = True)\n",
    "df3 = disease_feature3_df[disease_feature3_df_col].copy(deep = True)\n",
    "tf = train_food_df[train_food_df_col].copy(deep = True)"
   ]
  },
  {
   "cell_type": "markdown",
   "id": "6c1e8428-0d45-4bf7-8ca5-b2c12d6fca1d",
   "metadata": {},
   "source": [
    "查看每份数据id个数"
   ]
  },
  {
   "cell_type": "code",
   "execution_count": 17,
   "id": "7373f8da-20df-4e6b-91b3-815f53572e6a",
   "metadata": {},
   "outputs": [
    {
     "name": "stdout",
     "output_type": "stream",
     "text": [
      "df1的disease_id总个数：220 df1数据大小(220, 997)\n",
      "df2的disease_id总个数：301 df2数据大小(301, 3182)\n",
      "df3的disease_id总个数：392 df3数据大小(392, 1454)\n"
     ]
    }
   ],
   "source": [
    "print('df1的disease_id总个数：{}'.format(df1['disease_id'].nunique()),'df1数据大小{}'.format(df1.shape))\n",
    "print('df2的disease_id总个数：{}'.format(df2['disease_id'].nunique()),'df2数据大小{}'.format(df2.shape))\n",
    "print('df3的disease_id总个数：{}'.format(df3['disease_id'].nunique()),'df3数据大小{}'.format(df3.shape))\n"
   ]
  },
  {
   "cell_type": "markdown",
   "id": "0cf0edfb-d0c5-4646-b3cb-e88e17ef771f",
   "metadata": {},
   "source": [
    "填充缺失值"
   ]
  },
  {
   "cell_type": "code",
   "execution_count": 18,
   "id": "ecb18ebd-ac66-4712-8836-dae5d28a19b8",
   "metadata": {},
   "outputs": [],
   "source": [
    "def fill_null_val(df):\n",
    "    for col in df.columns:\n",
    "        df[col].fillna(df[col].mode(),inplace = True)"
   ]
  },
  {
   "cell_type": "code",
   "execution_count": 19,
   "id": "4a608b34-7088-4d48-a16c-f2a9f6903b7d",
   "metadata": {},
   "outputs": [],
   "source": [
    "for df in [df1,df2,df3,tf]:\n",
    "    fill_null_val(df)"
   ]
  },
  {
   "cell_type": "markdown",
   "id": "5eb60a55-dfa4-4558-897c-fceec068d6d7",
   "metadata": {},
   "source": [
    "方差过滤数据"
   ]
  },
  {
   "cell_type": "code",
   "execution_count": 20,
   "id": "024e7513-b509-439f-b74b-2ad5c62f3941",
   "metadata": {},
   "outputs": [],
   "source": [
    "def var_filter(df,setval = 0.5):\n",
    "    ans = []\n",
    "    for col in df.columns:\n",
    "        if str(df[col].dtype) == 'object' or col == 'related_prob':\n",
    "            ans.append(col)\n",
    "            continue\n",
    "        else:\n",
    "            curval = df[col].var()\n",
    "            if curval > setval:\n",
    "                ans.append(col)\n",
    "    print(df[ans].shape)\n",
    "    return df[ans]"
   ]
  },
  {
   "cell_type": "code",
   "execution_count": 21,
   "id": "a9c88092-8deb-4358-b64e-799539cc7cde",
   "metadata": {},
   "outputs": [
    {
     "name": "stdout",
     "output_type": "stream",
     "text": [
      "(220, 300)\n",
      "(301, 1080)\n",
      "(392, 284)\n",
      "(348, 39)\n"
     ]
    }
   ],
   "source": [
    "df1_1 = var_filter(df1,setval = 0.1)\n",
    "df2_1 = var_filter(df2,setval = 0.1)\n",
    "df3_1 = var_filter(df3,setval = 0.01)\n",
    "tf1 = var_filter(tf)"
   ]
  },
  {
   "cell_type": "code",
   "execution_count": 22,
   "id": "c73513d5-ea8a-44b3-8d1f-2ed6e4c5ee03",
   "metadata": {},
   "outputs": [],
   "source": [
    "def std_filter(df,setval = 3):\n",
    "    ans = []\n",
    "    for col in df.columns:\n",
    "        if str(df[col].dtype) == 'object':\n",
    "            ans.append(col)\n",
    "        else:\n",
    "            curstd = df[col].std()\n",
    "            if curstd > setval:\n",
    "                ans.append(col)\n",
    "    print(df[ans].shape)\n",
    "    return df[ans]"
   ]
  },
  {
   "cell_type": "code",
   "execution_count": 23,
   "id": "06802afb-7412-4592-b2aa-2edf313c471b",
   "metadata": {},
   "outputs": [
    {
     "name": "stdout",
     "output_type": "stream",
     "text": [
      "(220, 47)\n",
      "(301, 27)\n",
      "(392, 38)\n",
      "(348, 39)\n"
     ]
    }
   ],
   "source": [
    "df1_2 = var_filter(df1_1,setval = 0.11599)\n",
    "df2_2 = var_filter(df2_1,setval = 0.1093)\n",
    "df3_2 = var_filter(df3_1,setval = 0.019)\n",
    "tf2 = std_filter(tf1,setval = 0.1160)"
   ]
  },
  {
   "cell_type": "markdown",
   "id": "dc70cc69-8f19-45e2-934d-096f637dea27",
   "metadata": {},
   "source": [
    "###### "
   ]
  },
  {
   "cell_type": "code",
   "execution_count": 24,
   "id": "c057c66d-2443-4fce-89c5-0bdfbf5460c2",
   "metadata": {},
   "outputs": [],
   "source": [
    "def pearson(df,col1,col2):\n",
    "    covar = df[col1].cov(df[col2])\n",
    "    var1 = df[col1].var()\n",
    "    var2 = df[col2].var()\n",
    "    return covar / math.sqrt(var1 * var2)"
   ]
  },
  {
   "cell_type": "code",
   "execution_count": 25,
   "id": "78a75730-44c1-4dd1-8e1d-ebc93a18de7d",
   "metadata": {},
   "outputs": [],
   "source": [
    "def pearson_filter(df,cols,ans,thres = 0.33):\n",
    "    L = len(cols)\n",
    "    for i in range(1):\n",
    "        if i + 1 >= L:\n",
    "            break\n",
    "        for j in range(i +1,L):\n",
    "            out = pearson(df,cols[i],cols[j])\n",
    "            if out > -1 * thres and out < thres:\n",
    "                if cols[i] not in ans:\n",
    "                    ans.append(cols[i])\n",
    "                    ans.append(cols[j])\n",
    "                else:\n",
    "                    ans.append(cols[j])\n",
    "        print(df[ans].shape)\n",
    "        print(len(ans))\n",
    "        return ans"
   ]
  },
  {
   "cell_type": "code",
   "execution_count": 26,
   "id": "c442842d-2f06-4267-9415-b35713e2a89d",
   "metadata": {},
   "outputs": [],
   "source": [
    "def split_cols(df):\n",
    "    cate_cols,float_cols = [],[]\n",
    "    for col in df.columns:\n",
    "        if str(df[col].dtype) == 'object' or col == 'related_prob':\n",
    "            cate_cols.append(col)\n",
    "        else:\n",
    "            float_cols.append(col)\n",
    "    return cate_cols,float_cols"
   ]
  },
  {
   "cell_type": "code",
   "execution_count": 27,
   "id": "8767608c-c675-4b9f-959d-dd14cb69de52",
   "metadata": {},
   "outputs": [],
   "source": [
    "tf2_cate,tf2_float = split_cols(tf2)"
   ]
  },
  {
   "cell_type": "code",
   "execution_count": 28,
   "id": "fd8ae5e0-df0b-45ca-9e96-46b9f25dce7a",
   "metadata": {},
   "outputs": [],
   "source": [
    "def get_person_filter_df(tf2,tf2_cate,tf2_float,thres = 0.33):\n",
    "    ans = []\n",
    "    ans += tf2_cate\n",
    "    ans = pearson_filter(tf2,tf2_float,ans,thres)\n",
    "    return  tf2[ans]"
   ]
  },
  {
   "cell_type": "code",
   "execution_count": 29,
   "id": "14825e77-54f3-40df-9632-c7396ff95b5c",
   "metadata": {},
   "outputs": [
    {
     "name": "stdout",
     "output_type": "stream",
     "text": [
      "(348, 31)\n",
      "31\n"
     ]
    }
   ],
   "source": [
    "tf3 = get_person_filter_df(tf2,tf2_cate,tf2_float)"
   ]
  },
  {
   "cell_type": "code",
   "execution_count": 30,
   "id": "7aa11fb7-c2ec-459a-a405-6dc699b798eb",
   "metadata": {},
   "outputs": [],
   "source": [
    "df1_cate,df1_float = split_cols(df1_2)\n",
    "df2_cate,df2_float = split_cols(df2_2)\n",
    "df3_cate,df3_float = split_cols(df3_2)"
   ]
  },
  {
   "cell_type": "code",
   "execution_count": 31,
   "id": "f348d299-6a23-442e-927c-739699b3820e",
   "metadata": {},
   "outputs": [
    {
     "name": "stdout",
     "output_type": "stream",
     "text": [
      "(220, 1)\n",
      "1\n",
      "(301, 1)\n",
      "1\n",
      "(392, 34)\n",
      "34\n"
     ]
    }
   ],
   "source": [
    "df1_3 = get_person_filter_df(df1_2,df1_cate,df1_float,thres = 0.5)\n",
    "df2_3 = get_person_filter_df(df2_2,df2_cate,df2_float,thres = 0.5)\n",
    "df3_3 = get_person_filter_df(df3_2,df3_cate,df3_float,thres = 0.5)"
   ]
  },
  {
   "cell_type": "code",
   "execution_count": 32,
   "id": "8a2d0b22-e036-43a3-b4b0-af82b186f480",
   "metadata": {},
   "outputs": [],
   "source": [
    "def fill_food_null(df):\n",
    "    for col in df.columns:\n",
    "        if str(df[col].dtype) == 'object':\n",
    "            continue \n",
    "        df[col].fillna(df[col].mean(),inplace = True)\n",
    "    return df"
   ]
  },
  {
   "cell_type": "code",
   "execution_count": 33,
   "id": "0e9d95b6-139a-4eb1-9692-508b8d23cdb7",
   "metadata": {},
   "outputs": [
    {
     "name": "stderr",
     "output_type": "stream",
     "text": [
      "C:\\Users\\m1824\\AppData\\Local\\Temp\\ipykernel_11224\\3465228131.py:5: SettingWithCopyWarning: \n",
      "A value is trying to be set on a copy of a slice from a DataFrame\n",
      "\n",
      "See the caveats in the documentation: https://pandas.pydata.org/pandas-docs/stable/user_guide/indexing.html#returning-a-view-versus-a-copy\n",
      "  df[col].fillna(df[col].mean(),inplace = True)\n"
     ]
    }
   ],
   "source": [
    "tf3 = fill_food_null(tf3)"
   ]
  },
  {
   "cell_type": "code",
   "execution_count": 34,
   "id": "96d731e3-cdaf-465d-938f-e444c2f3ef08",
   "metadata": {},
   "outputs": [
    {
     "name": "stdout",
     "output_type": "stream",
     "text": [
      "<class 'pandas.core.frame.DataFrame'>\n",
      "RangeIndex: 348 entries, 0 to 347\n",
      "Data columns (total 31 columns):\n",
      " #   Column   Non-Null Count  Dtype  \n",
      "---  ------   --------------  -----  \n",
      " 0   food_id  348 non-null    object \n",
      " 1   N_6      348 non-null    float64\n",
      " 2   N_17     348 non-null    float64\n",
      " 3   N_22     348 non-null    float64\n",
      " 4   N_42     348 non-null    float64\n",
      " 5   N_48     348 non-null    float64\n",
      " 6   N_49     348 non-null    float64\n",
      " 7   N_50     348 non-null    float64\n",
      " 8   N_59     348 non-null    float64\n",
      " 9   N_60     348 non-null    float64\n",
      " 10  N_61     348 non-null    float64\n",
      " 11  N_62     348 non-null    float64\n",
      " 12  N_90     348 non-null    float64\n",
      " 13  N_94     348 non-null    float64\n",
      " 14  N_101    348 non-null    float64\n",
      " 15  N_106    348 non-null    float64\n",
      " 16  N_113    348 non-null    float64\n",
      " 17  N_114    348 non-null    float64\n",
      " 18  N_119    348 non-null    float64\n",
      " 19  N_142    348 non-null    float64\n",
      " 20  N_145    348 non-null    float64\n",
      " 21  N_147    348 non-null    float64\n",
      " 22  N_151    348 non-null    float64\n",
      " 23  N_153    348 non-null    float64\n",
      " 24  N_155    348 non-null    float64\n",
      " 25  N_157    348 non-null    float64\n",
      " 26  N_188    348 non-null    float64\n",
      " 27  N_194    348 non-null    float64\n",
      " 28  N_195    348 non-null    float64\n",
      " 29  N_198    348 non-null    float64\n",
      " 30  N_199    348 non-null    float64\n",
      "dtypes: float64(30), object(1)\n",
      "memory usage: 84.4+ KB\n"
     ]
    }
   ],
   "source": [
    "tf3.info()"
   ]
  },
  {
   "cell_type": "code",
   "execution_count": 35,
   "id": "8b7b63e9-d5cd-46b1-8427-bdb057c3a374",
   "metadata": {},
   "outputs": [],
   "source": [
    "train_df = pd.merge(train_answer_df,tf3,how = 'left',on = 'food_id')\n",
    "train_df = pd.merge(train_df,df3_3,how = 'left',on = 'disease_id')"
   ]
  },
  {
   "cell_type": "code",
   "execution_count": 36,
   "id": "bfcf882a-a780-4932-9f35-84db3d00cd2d",
   "metadata": {},
   "outputs": [
    {
     "data": {
      "text/html": [
       "<div>\n",
       "<style scoped>\n",
       "    .dataframe tbody tr th:only-of-type {\n",
       "        vertical-align: middle;\n",
       "    }\n",
       "\n",
       "    .dataframe tbody tr th {\n",
       "        vertical-align: top;\n",
       "    }\n",
       "\n",
       "    .dataframe thead th {\n",
       "        text-align: right;\n",
       "    }\n",
       "</style>\n",
       "<table border=\"1\" class=\"dataframe\">\n",
       "  <thead>\n",
       "    <tr style=\"text-align: right;\">\n",
       "      <th></th>\n",
       "      <th>food_id</th>\n",
       "      <th>disease_id</th>\n",
       "      <th>related</th>\n",
       "      <th>N_6</th>\n",
       "      <th>N_17</th>\n",
       "      <th>N_22</th>\n",
       "      <th>N_42</th>\n",
       "      <th>N_48</th>\n",
       "      <th>N_49</th>\n",
       "      <th>N_50</th>\n",
       "      <th>...</th>\n",
       "      <th>F_3180</th>\n",
       "      <th>F_3272</th>\n",
       "      <th>F_3519</th>\n",
       "      <th>F_3903</th>\n",
       "      <th>F_3931</th>\n",
       "      <th>F_4105</th>\n",
       "      <th>F_4142</th>\n",
       "      <th>F_4229</th>\n",
       "      <th>F_4316</th>\n",
       "      <th>F_4616</th>\n",
       "    </tr>\n",
       "  </thead>\n",
       "  <tbody>\n",
       "    <tr>\n",
       "      <th>0</th>\n",
       "      <td>food_0</td>\n",
       "      <td>disease_998</td>\n",
       "      <td>0</td>\n",
       "      <td>0.0</td>\n",
       "      <td>2.1</td>\n",
       "      <td>0.0</td>\n",
       "      <td>23.0</td>\n",
       "      <td>0.056</td>\n",
       "      <td>0.409</td>\n",
       "      <td>0.069</td>\n",
       "      <td>...</td>\n",
       "      <td>0.0</td>\n",
       "      <td>0.0</td>\n",
       "      <td>0.0</td>\n",
       "      <td>0.0</td>\n",
       "      <td>0.0</td>\n",
       "      <td>0.000000</td>\n",
       "      <td>0.0</td>\n",
       "      <td>0.0</td>\n",
       "      <td>0.000000</td>\n",
       "      <td>0.0</td>\n",
       "    </tr>\n",
       "    <tr>\n",
       "      <th>1</th>\n",
       "      <td>food_0</td>\n",
       "      <td>disease_861</td>\n",
       "      <td>0</td>\n",
       "      <td>0.0</td>\n",
       "      <td>2.1</td>\n",
       "      <td>0.0</td>\n",
       "      <td>23.0</td>\n",
       "      <td>0.056</td>\n",
       "      <td>0.409</td>\n",
       "      <td>0.069</td>\n",
       "      <td>...</td>\n",
       "      <td>0.0</td>\n",
       "      <td>0.0</td>\n",
       "      <td>0.0</td>\n",
       "      <td>0.0</td>\n",
       "      <td>0.0</td>\n",
       "      <td>0.000000</td>\n",
       "      <td>0.0</td>\n",
       "      <td>0.0</td>\n",
       "      <td>0.000000</td>\n",
       "      <td>0.0</td>\n",
       "    </tr>\n",
       "    <tr>\n",
       "      <th>2</th>\n",
       "      <td>food_0</td>\n",
       "      <td>disease_559</td>\n",
       "      <td>0</td>\n",
       "      <td>0.0</td>\n",
       "      <td>2.1</td>\n",
       "      <td>0.0</td>\n",
       "      <td>23.0</td>\n",
       "      <td>0.056</td>\n",
       "      <td>0.409</td>\n",
       "      <td>0.069</td>\n",
       "      <td>...</td>\n",
       "      <td>0.0</td>\n",
       "      <td>0.0</td>\n",
       "      <td>0.0</td>\n",
       "      <td>0.0</td>\n",
       "      <td>0.0</td>\n",
       "      <td>0.053024</td>\n",
       "      <td>0.0</td>\n",
       "      <td>0.0</td>\n",
       "      <td>0.081333</td>\n",
       "      <td>0.0</td>\n",
       "    </tr>\n",
       "    <tr>\n",
       "      <th>3</th>\n",
       "      <td>food_0</td>\n",
       "      <td>disease_841</td>\n",
       "      <td>0</td>\n",
       "      <td>0.0</td>\n",
       "      <td>2.1</td>\n",
       "      <td>0.0</td>\n",
       "      <td>23.0</td>\n",
       "      <td>0.056</td>\n",
       "      <td>0.409</td>\n",
       "      <td>0.069</td>\n",
       "      <td>...</td>\n",
       "      <td>0.0</td>\n",
       "      <td>0.0</td>\n",
       "      <td>0.0</td>\n",
       "      <td>0.0</td>\n",
       "      <td>0.0</td>\n",
       "      <td>0.000000</td>\n",
       "      <td>0.0</td>\n",
       "      <td>0.0</td>\n",
       "      <td>0.000000</td>\n",
       "      <td>0.0</td>\n",
       "    </tr>\n",
       "    <tr>\n",
       "      <th>4</th>\n",
       "      <td>food_0</td>\n",
       "      <td>disease_81</td>\n",
       "      <td>0</td>\n",
       "      <td>0.0</td>\n",
       "      <td>2.1</td>\n",
       "      <td>0.0</td>\n",
       "      <td>23.0</td>\n",
       "      <td>0.056</td>\n",
       "      <td>0.409</td>\n",
       "      <td>0.069</td>\n",
       "      <td>...</td>\n",
       "      <td>0.0</td>\n",
       "      <td>0.0</td>\n",
       "      <td>0.0</td>\n",
       "      <td>0.0</td>\n",
       "      <td>0.0</td>\n",
       "      <td>0.071563</td>\n",
       "      <td>0.0</td>\n",
       "      <td>0.0</td>\n",
       "      <td>0.000000</td>\n",
       "      <td>0.0</td>\n",
       "    </tr>\n",
       "  </tbody>\n",
       "</table>\n",
       "<p>5 rows × 66 columns</p>\n",
       "</div>"
      ],
      "text/plain": [
       "  food_id   disease_id  related  N_6  N_17  N_22  N_42   N_48   N_49   N_50  \\\n",
       "0  food_0  disease_998        0  0.0   2.1   0.0  23.0  0.056  0.409  0.069   \n",
       "1  food_0  disease_861        0  0.0   2.1   0.0  23.0  0.056  0.409  0.069   \n",
       "2  food_0  disease_559        0  0.0   2.1   0.0  23.0  0.056  0.409  0.069   \n",
       "3  food_0  disease_841        0  0.0   2.1   0.0  23.0  0.056  0.409  0.069   \n",
       "4  food_0   disease_81        0  0.0   2.1   0.0  23.0  0.056  0.409  0.069   \n",
       "\n",
       "   ...  F_3180  F_3272  F_3519  F_3903  F_3931    F_4105  F_4142  F_4229  \\\n",
       "0  ...     0.0     0.0     0.0     0.0     0.0  0.000000     0.0     0.0   \n",
       "1  ...     0.0     0.0     0.0     0.0     0.0  0.000000     0.0     0.0   \n",
       "2  ...     0.0     0.0     0.0     0.0     0.0  0.053024     0.0     0.0   \n",
       "3  ...     0.0     0.0     0.0     0.0     0.0  0.000000     0.0     0.0   \n",
       "4  ...     0.0     0.0     0.0     0.0     0.0  0.071563     0.0     0.0   \n",
       "\n",
       "     F_4316  F_4616  \n",
       "0  0.000000     0.0  \n",
       "1  0.000000     0.0  \n",
       "2  0.081333     0.0  \n",
       "3  0.000000     0.0  \n",
       "4  0.000000     0.0  \n",
       "\n",
       "[5 rows x 66 columns]"
      ]
     },
     "execution_count": 36,
     "metadata": {},
     "output_type": "execute_result"
    }
   ],
   "source": [
    "train_df.head()"
   ]
  },
  {
   "cell_type": "code",
   "execution_count": 37,
   "id": "d4a8b7d7-63e5-41a6-b462-0786b7ab94cf",
   "metadata": {},
   "outputs": [],
   "source": [
    "def fill_df_null(df):\n",
    "    for col in df.columns:\n",
    "        if str(df[col].dtype) == 'object':\n",
    "            continue\n",
    "        df[col].fillna(df[col].mean(),inplace = True)\n",
    "    return df"
   ]
  },
  {
   "cell_type": "code",
   "execution_count": 38,
   "id": "f42e0797-3738-48a8-a697-b115255ba819",
   "metadata": {},
   "outputs": [],
   "source": [
    "train_df = fill_df_null(train_df)"
   ]
  },
  {
   "cell_type": "code",
   "execution_count": 39,
   "id": "7d9adabc-561e-4e7e-b5b6-411d6d75ceb1",
   "metadata": {},
   "outputs": [],
   "source": [
    "def filter_outlier(df):\n",
    "    cols = [col for col in df.columns if col not in ['related','disease_id','food_id']]\n",
    "    for col in cols:\n",
    "        up_val = df[col].quantile(0.75)\n",
    "        down_val = df[col].quantile(0.25)\n",
    "        IQR = up_val - down_val\n",
    "        mean_val = df[col].mean()\n",
    "        df[col] = df[col].apply(lambda x: x if x > down_val - 1.5*IQR and x <= up_val + 1.5*IQR else mean_val)\n",
    "    return df"
   ]
  },
  {
   "cell_type": "code",
   "execution_count": 40,
   "id": "b83f8199-ac75-413d-b4b4-883e9258630f",
   "metadata": {},
   "outputs": [],
   "source": [
    "cl_train_df = filter_outlier(train_df)"
   ]
  },
  {
   "cell_type": "code",
   "execution_count": 41,
   "id": "2a1d9bca-7f6a-48ab-9a12-50a85a7dfdb1",
   "metadata": {},
   "outputs": [],
   "source": [
    "df_train = cl_train_df.sample(frac = 0.3)\n",
    "df_test = cl_train_df.sample(frac = 0.2)"
   ]
  },
  {
   "cell_type": "code",
   "execution_count": 42,
   "id": "dfd851f0-47d9-41f3-929a-de4483d605fa",
   "metadata": {},
   "outputs": [
    {
     "data": {
      "text/plain": [
       "set()"
      ]
     },
     "execution_count": 42,
     "metadata": {},
     "output_type": "execute_result"
    }
   ],
   "source": [
    "set(df_train['food_id'].values).difference(set(df_test['food_id'].values))"
   ]
  },
  {
   "cell_type": "markdown",
   "id": "36cf939f-22d7-4a38-b66e-e0b8c11e305f",
   "metadata": {},
   "source": [
    "查看训练集上数据分布"
   ]
  },
  {
   "cell_type": "code",
   "execution_count": 43,
   "id": "f5c1847b-dd4e-4bd0-b6af-31557184bea0",
   "metadata": {},
   "outputs": [
    {
     "data": {
      "text/plain": [
       "0    38203\n",
       "1     4288\n",
       "Name: related, dtype: int64"
      ]
     },
     "execution_count": 43,
     "metadata": {},
     "output_type": "execute_result"
    }
   ],
   "source": [
    "df_train['related'].value_counts()"
   ]
  },
  {
   "cell_type": "code",
   "execution_count": 44,
   "id": "e93fe69a-a146-4869-a012-d14be08fa811",
   "metadata": {},
   "outputs": [],
   "source": [
    "df_train_p = df_train[df_train['related'] == 1].copy(deep = True)\n",
    "df_train_n = df_train[df_train['related'] == 0].copy(deep = True)"
   ]
  },
  {
   "cell_type": "markdown",
   "id": "d1c8bc25-1b2e-4772-8e38-a5450e9f76ed",
   "metadata": {},
   "source": [
    "数据增强，维持正负比平衡"
   ]
  },
  {
   "cell_type": "code",
   "execution_count": 45,
   "id": "97c1a395-c9db-4b6d-9e7d-8c9721d1f33c",
   "metadata": {},
   "outputs": [],
   "source": [
    "def expand_positive_negative(df,expand_num):\n",
    "    cols_max_min = 0\n",
    "    res = []\n",
    "    for _ in range(expand_num):\n",
    "        ex_df = df.copy(deep = True)\n",
    "        cate_cols = [col for col in ex_df.columns if col in ['disease_id','food_id','related']]\n",
    "        float_cols = [col for col in ex_df.columns if col not in ['disease_id','food_id','related']]\n",
    "        for col in float_cols:\n",
    "            cols_max_min = ex_df[col].quantile(0.75)  - ex_df[col].quantile(0.25) + random.random() * 0.01\n",
    "            norm_val_list = np.random.uniform(-1,cols_max_min / 100,ex_df.shape[0])\n",
    "            colval =np.array(ex_df[col])\n",
    "            norm_val_array =  np.array(norm_val_list)\n",
    "            ex_df[col] = colval + norm_val_array\n",
    "        res.append(ex_df[cate_cols + float_cols])\n",
    "    return res        "
   ]
  },
  {
   "cell_type": "code",
   "execution_count": 46,
   "id": "6c663fad-1244-47f2-af37-711d6737db88",
   "metadata": {},
   "outputs": [],
   "source": [
    "plist = expand_positive_negative(df_train_p,expand_num = 9)"
   ]
  },
  {
   "cell_type": "code",
   "execution_count": 47,
   "id": "ff9f7baf-0e27-4146-a1e5-1c616db14394",
   "metadata": {},
   "outputs": [],
   "source": [
    "train_p = pd.concat(plist,axis = 0)"
   ]
  },
  {
   "cell_type": "code",
   "execution_count": 48,
   "id": "f69831fb-85b1-4b45-89e0-bc785fc8a6f6",
   "metadata": {},
   "outputs": [],
   "source": [
    "con_train_df = pd.concat([train_p,df_train_n],axis = 0)"
   ]
  },
  {
   "cell_type": "code",
   "execution_count": 49,
   "id": "89a941ec-deb0-4e89-89fa-a47ef1041d9d",
   "metadata": {},
   "outputs": [
    {
     "data": {
      "text/plain": [
       "1    38592\n",
       "0    38203\n",
       "Name: related, dtype: int64"
      ]
     },
     "execution_count": 49,
     "metadata": {},
     "output_type": "execute_result"
    }
   ],
   "source": [
    "con_train_df['related'].value_counts()"
   ]
  },
  {
   "cell_type": "markdown",
   "id": "62fa7525-8e05-44d6-9bdc-c129b4f12c28",
   "metadata": {},
   "source": [
    "归一化c处理数据"
   ]
  },
  {
   "cell_type": "code",
   "execution_count": 50,
   "id": "b2f7398d-827b-42e6-9cb4-a76c884508fe",
   "metadata": {},
   "outputs": [],
   "source": [
    "def norm_cols(df):\n",
    "    float_cols = [col for col in df.columns if col not in ['disease_id','food_id','related']]\n",
    "    for col in float_cols:\n",
    "        max_val = df[col].max()\n",
    "        min_val = df[col].min()\n",
    "        df[col] = df[col].apply(lambda x:(x-min_val) /(max_val - min_val + 0.001))\n",
    "    return df"
   ]
  },
  {
   "cell_type": "code",
   "execution_count": 51,
   "id": "ac3639fa-dbae-45e8-acc4-a96b672fa8c1",
   "metadata": {},
   "outputs": [],
   "source": [
    "norm_train_df = norm_cols(con_train_df)"
   ]
  },
  {
   "cell_type": "code",
   "execution_count": 52,
   "id": "88914c44-2490-4f6e-bbab-0ed8a732a90d",
   "metadata": {},
   "outputs": [],
   "source": [
    "norm_test_df = norm_cols(df_test)"
   ]
  },
  {
   "cell_type": "code",
   "execution_count": 53,
   "id": "c013af96-5a4d-4526-83ba-b9e00d406d34",
   "metadata": {},
   "outputs": [],
   "source": [
    "def split_label_predprob(arrs):\n",
    "    y_pred_new,y_predprob = [],[]\n",
    "    for a,b in arrs:\n",
    "        if a > b:\n",
    "            y_pred_new.append(0)\n",
    "            y_predprob.append(b)\n",
    "        else:\n",
    "            y_pred_new.append(1)\n",
    "            y_predprob.append(b)\n",
    "    return y_pred_new,y_predprob\n",
    "def count_tp_fp(pred_y,true_y):\n",
    "    count_tp,count_fp,count_fn = 0,0,0\n",
    "    for y1,y2 in list(zip(pred_y,true_y)):\n",
    "        if y1 == 1 and y2 == 1:\n",
    "            count_tp += 1\n",
    "        elif y1 == 1 and y2 == 0:\n",
    "            count_fp  += 1\n",
    "        elif y1 == 0 and y2 == 1:\n",
    "            count_fn += 1\n",
    "    return count_tp,count_fp,count_fn\n"
   ]
  },
  {
   "cell_type": "code",
   "execution_count": 54,
   "id": "cacef939-d3de-4bd5-bd01-4e24aa0a59a6",
   "metadata": {},
   "outputs": [],
   "source": [
    "def get_pre_score(norm_train_df,norm_test_df):\n",
    "    train_x_columns = [x for x in norm_train_df.columns if x not in ['disease_id','food_id','related']]\n",
    "    test_x_columns = [x for x in norm_test_df.columns if x not in ['disease_id','food_id','related']]\n",
    "    X = norm_train_df[train_x_columns].values\n",
    "    Y = norm_train_df['related'].values\n",
    "#     X_train,X_val,Y_train,Y_val = train_test_split(X,Y,test_size = 0.2)\n",
    "    \n",
    "    X_test = norm_test_df[test_x_columns].values\n",
    "    Y_test = norm_test_df['related'].values\n",
    "    \n",
    "    \n",
    "    \n",
    "    model = XGBClassifier()\n",
    "    model.fit(X,Y)\n",
    "    ans = model.predict(X_test)\n",
    "    print(ans)\n",
    "    \n",
    "#     y_pred_new,y_predprob = split_label_predprob(ans)\n",
    "    \n",
    "    \n",
    "    acc = metrics.accuracy_score(Y_test,ans)\n",
    "    auc = metrics.roc_auc_score(Y_test,ans)\n",
    "    \n",
    "    tp_num,fp_num,fn_num = count_tp_fp(ans,Y_test)\n",
    "    print('tp_num:{0},fp_num:{1},fn_num:{2}'.format(tp_num,fp_num,fn_num))\n",
    "    presion = tp_num / (tp_num + fp_num)\n",
    "    recall = tp_num / (tp_num + fn_num)\n",
    "    F1_score = (2 * presion * recall) / (presion + recall)\n",
    "    print('presion{}'.format(presion),'recall:{}'.format(recall),'F1_score:{}'.format(F1_score))\n",
    "    print('(F1_score + auc)/2:',(F1_score + auc) / 2)\n",
    "    return (F1_score + auc) / 2\n",
    "    "
   ]
  },
  {
   "cell_type": "code",
   "execution_count": 55,
   "id": "4789bdb9-acde-4a24-bf7f-31d9ee87930c",
   "metadata": {},
   "outputs": [
    {
     "name": "stdout",
     "output_type": "stream",
     "text": [
      "[1 1 1 ... 1 1 1]\n",
      "tp_num:2829,fp_num:25498,fn_num:0\n",
      "presion0.0998693825678681 recall:1.0 F1_score:0.18160225959686738\n",
      "(F1_score + auc)/2: 0.3408011297984337\n"
     ]
    }
   ],
   "source": [
    "out = get_pre_score(norm_train_df,norm_test_df)"
   ]
  },
  {
   "cell_type": "code",
   "execution_count": null,
   "id": "27508900-53cc-440a-98c6-676ead077178",
   "metadata": {},
   "outputs": [],
   "source": []
  }
 ],
 "metadata": {
  "kernelspec": {
   "display_name": "pytorch1.7",
   "language": "python",
   "name": "pytorch1.7"
  },
  "language_info": {
   "codemirror_mode": {
    "name": "ipython",
    "version": 3
   },
   "file_extension": ".py",
   "mimetype": "text/x-python",
   "name": "python",
   "nbconvert_exporter": "python",
   "pygments_lexer": "ipython3",
   "version": "3.8.0"
  }
 },
 "nbformat": 4,
 "nbformat_minor": 5
}
